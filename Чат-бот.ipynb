{
 "cells": [
  {
   "cell_type": "code",
   "execution_count": 2,
   "id": "d1275b15",
   "metadata": {},
   "outputs": [],
   "source": [
    "import datetime as dt\n",
    "import requests"
   ]
  },
  {
   "cell_type": "code",
   "execution_count": 3,
   "id": "0adbc73e",
   "metadata": {},
   "outputs": [],
   "source": [
    "DATABASE = {\n",
    "    'Сергей': 'Омск',\n",
    "    'Соня': 'Москва',\n",
    "    'Алексей': 'Калининград',\n",
    "    'Миша': 'Москва',\n",
    "    'Дима': 'Челябинск',\n",
    "    'Алина': 'Красноярск',\n",
    "    'Егор': 'Пермь',\n",
    "    'Коля': 'Красноярск',\n",
    "    'Артём': 'Владивосток',\n",
    "    'Петя': 'Михайловка'\n",
    "}"
   ]
  },
  {
   "cell_type": "code",
   "execution_count": 4,
   "id": "6d750c38",
   "metadata": {},
   "outputs": [],
   "source": [
    "UTC_OFFSET = {\n",
    "    'Москва': 3,\n",
    "    'Санкт-Петербург': 3,\n",
    "    'Новосибирск': 7,\n",
    "    'Екатеринбург': 5,\n",
    "    'Нижний Новгород': 3,\n",
    "    'Казань': 3,\n",
    "    'Челябинск': 5,\n",
    "    'Омск': 6,\n",
    "    'Самара': 4,\n",
    "    'Ростов-на-Дону': 3,\n",
    "    'Уфа': 5,\n",
    "    'Красноярск': 7,\n",
    "    'Воронеж': 3,\n",
    "    'Пермь': 5,\n",
    "    'Волгоград': 3,\n",
    "    'Краснодар': 3,\n",
    "    'Калининград': 2,\n",
    "    'Владивосток': 10\n",
    "}"
   ]
  },
  {
   "cell_type": "code",
   "execution_count": 5,
   "id": "67b2c0c0",
   "metadata": {},
   "outputs": [],
   "source": [
    "def format_count_friends(count_friends):\n",
    "    if count_friends == 1:\n",
    "        return '1 друг'\n",
    "    elif 2 <= count_friends <= 4:\n",
    "        return f'{count_friends} друга'\n",
    "    else:\n",
    "        return f'{count_friends} друзей'"
   ]
  },
  {
   "cell_type": "code",
   "execution_count": 6,
   "id": "618232e4",
   "metadata": {},
   "outputs": [],
   "source": [
    "def what_time(city):\n",
    "    offset = UTC_OFFSET[city]\n",
    "    city_time = dt.datetime.utcnow() + dt.timedelta(hours=offset)\n",
    "    f_time = city_time.strftime(\"%H:%M\")\n",
    "    return f_time"
   ]
  },
  {
   "cell_type": "code",
   "execution_count": 7,
   "id": "7bc0d84a",
   "metadata": {},
   "outputs": [],
   "source": [
    "def what_weather(city):\n",
    "    url = f'http://wttr.in/{city}'\n",
    "    weather_parameters = {\n",
    "        'format': 2,\n",
    "        'M': ''\n",
    "    }\n",
    "    try:\n",
    "        response = requests.get(url, params=weather_parameters)\n",
    "    except requests.ConnectionError:\n",
    "        return '<сетевая ошибка>'\n",
    "    if response.status_code == 200:\n",
    "        return response.text.strip()\n",
    "    else:\n",
    "        return '<ошибка на сервере погоды>'"
   ]
  },
  {
   "cell_type": "code",
   "execution_count": 8,
   "id": "d5597189",
   "metadata": {},
   "outputs": [],
   "source": [
    "def process_anfisa(query):\n",
    "    if query == 'сколько у меня друзей?':\n",
    "        count_string = format_count_friends(len(DATABASE))\n",
    "        return f'У тебя {count_string}'\n",
    "    elif query == 'кто все мои друзья?':\n",
    "        friends_string = ', '.join(DATABASE.keys())\n",
    "        return f'Твои друзья: {friends_string}'\n",
    "    elif query == 'где все мои друзья?':\n",
    "        unique_cities = set(DATABASE.values())\n",
    "        cities_string = ', '.join(unique_cities)\n",
    "        return f'Твои друзья в городах: {cities_string}'\n",
    "    else:\n",
    "        return '<неизвестный запрос>'"
   ]
  },
  {
   "cell_type": "code",
   "execution_count": 9,
   "id": "dc81df9e",
   "metadata": {},
   "outputs": [],
   "source": [
    "def process_friend(name, query):\n",
    "    if name in DATABASE:\n",
    "        city = DATABASE[name]\n",
    "        if query == 'ты где?':\n",
    "            return f'{name} в городе {city}'\n",
    "        elif query == 'который час?':\n",
    "            if city not in UTC_OFFSET:\n",
    "                return f'<не могу определить время в городе {city}>'\n",
    "            time = what_time(city)\n",
    "            return f'Там сейчас {time}'\n",
    "        elif query == 'как погода?':\n",
    "            weather = what_weather(city)\n",
    "            return what_weather(city)\n",
    "        else:\n",
    "            return '<неизвестный запрос>'\n",
    "    else:\n",
    "        return f'У тебя нет друга по имени {name}'"
   ]
  },
  {
   "cell_type": "code",
   "execution_count": 10,
   "id": "0e3778d4",
   "metadata": {},
   "outputs": [],
   "source": [
    "def process_query(query):\n",
    "    tokens = query.split(', ')\n",
    "    name = tokens[0]\n",
    "    if name == 'Анфиса':\n",
    "        return process_anfisa(tokens[1])\n",
    "    else:\n",
    "        return process_friend(name, tokens[1])"
   ]
  },
  {
   "cell_type": "code",
   "execution_count": 11,
   "id": "3a2e33c3",
   "metadata": {},
   "outputs": [],
   "source": [
    "def runner():\n",
    "    queries = [\n",
    "        'Анфиса, сколько у меня друзей?',\n",
    "        'Анфиса, кто все мои друзья?',\n",
    "        'Анфиса, где все мои друзья?',\n",
    "        'Анфиса, кто виноват?',\n",
    "        'Коля, ты где?',\n",
    "        'Соня, что делать?',\n",
    "        'Антон, ты где?',\n",
    "        'Алексей, который час?',\n",
    "        'Артём, который час?',\n",
    "        'Антон, который час?',\n",
    "        'Петя, который час?',\n",
    "        'Коля, как погода?',\n",
    "        'Соня, как погода?',\n",
    "        'Антон, как погода?'\n",
    "    ]\n",
    "    for query in queries:\n",
    "        print(query, '-', process_query(query))"
   ]
  },
  {
   "cell_type": "code",
   "execution_count": 12,
   "id": "f7a62182",
   "metadata": {},
   "outputs": [
    {
     "name": "stdout",
     "output_type": "stream",
     "text": [
      "Анфиса, сколько у меня друзей? - У тебя 10 друзей\n",
      "Анфиса, кто все мои друзья? - Твои друзья: Сергей, Соня, Алексей, Миша, Дима, Алина, Егор, Коля, Артём, Петя\n",
      "Анфиса, где все мои друзья? - Твои друзья в городах: Красноярск, Калининград, Владивосток, Омск, Михайловка, Челябинск, Москва, Пермь\n",
      "Анфиса, кто виноват? - <неизвестный запрос>\n",
      "Коля, ты где? - Коля в городе Красноярск\n",
      "Соня, что делать? - <неизвестный запрос>\n",
      "Антон, ты где? - У тебя нет друга по имени Антон\n",
      "Алексей, который час? - Там сейчас 15:34\n",
      "Артём, который час? - Там сейчас 23:34\n",
      "Антон, который час? - У тебя нет друга по имени Антон\n",
      "Петя, который час? - <не могу определить время в городе Михайловка>\n",
      "Коля, как погода? - ⛅️  🌡️-17°C 🌬️0.0m/s\n",
      "Соня, как погода? - 🌫  🌡️-4°C 🌬️←5.3m/s\n",
      "Антон, как погода? - У тебя нет друга по имени Антон\n"
     ]
    }
   ],
   "source": [
    "runner()"
   ]
  },
  {
   "cell_type": "code",
   "execution_count": null,
   "id": "387a0620",
   "metadata": {},
   "outputs": [],
   "source": []
  }
 ],
 "metadata": {
  "kernelspec": {
   "display_name": "Python 3 (ipykernel)",
   "language": "python",
   "name": "python3"
  },
  "language_info": {
   "codemirror_mode": {
    "name": "ipython",
    "version": 3
   },
   "file_extension": ".py",
   "mimetype": "text/x-python",
   "name": "python",
   "nbconvert_exporter": "python",
   "pygments_lexer": "ipython3",
   "version": "3.9.7"
  }
 },
 "nbformat": 4,
 "nbformat_minor": 5
}
